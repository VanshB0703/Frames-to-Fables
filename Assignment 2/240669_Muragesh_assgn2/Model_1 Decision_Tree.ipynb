{
 "cells": [
  {
   "cell_type": "code",
   "execution_count": 20,
   "id": "6ef57339-0e06-4c2f-9895-fefc6f1a6665",
   "metadata": {},
   "outputs": [],
   "source": [
    "import numpy as np\n",
    "\n",
    "def gini(y):\n",
    "    classes, counts = np.unique(y, return_counts=True)\n",
    "    prob_sq = (counts / counts.sum()) ** 2\n",
    "    return 1 - prob_sq.sum()\n",
    "def entropy(y):\n",
    "    counts = np.bincount(y)\n",
    "    probabilities = counts / len(y)\n",
    "    return -np.sum([p * np.log2(p) for p in probabilities if p > 0])\n",
    "\n",
    "def information_gain(parent, left_idxs, right_idxs):\n",
    "    left = parent[left_idxs]\n",
    "    right = parent[right_idxs]\n",
    "    parent_entropy = entropy(parent)\n",
    "    n = len(parent)\n",
    "    n_left, n_right = len(left), len(right)\n",
    "    if n_left == 0 or n_right == 0:\n",
    "        return 0\n",
    "    child_entropy = (n_left / n) * entropy(left) + (n_right / n) * entropy(right)\n",
    "    return parent_entropy - child_entropy"
   ]
  },
  {
   "cell_type": "code",
   "execution_count": 21,
   "id": "1df864fd-1cae-4e47-a419-f484c2afda16",
   "metadata": {},
   "outputs": [],
   "source": [
    "def split(X_column, threshold):\n",
    "    left = np.where(X_column <= threshold)[0]\n",
    "    right = np.where(X_column > threshold)[0]\n",
    "    return left, right\n"
   ]
  },
  {
   "cell_type": "code",
   "execution_count": 22,
   "id": "40c88a60-f590-4329-9ba3-b9c730274f8b",
   "metadata": {},
   "outputs": [],
   "source": [
    "def best_split(X, y):\n",
    "    best_gain = -1\n",
    "    best_idx, best_thresh = None, None\n",
    "\n",
    "    for col in range(X.shape[1]):\n",
    "        thresholds = np.unique(X[:, col])\n",
    "        for t in thresholds:\n",
    "            left, right = split(X[:, col], t)\n",
    "            if len(left) == 0 or len(right) == 0:\n",
    "                continue\n",
    "            gain = information_gain(y, left, right)\n",
    "            if gain > best_gain:\n",
    "                best_gain = gain\n",
    "                best_idx = col\n",
    "                best_thresh = t\n",
    "    print(f\"Best split: feature={best_idx}, threshold={best_thresh}, type={type(best_thresh)}\")\n",
    "    return best_idx, best_thresh\n"
   ]
  },
  {
   "cell_type": "code",
   "execution_count": 23,
   "id": "f9db17c9-b7b5-4b3c-8fe9-0d32c7dffe0c",
   "metadata": {},
   "outputs": [],
   "source": [
    "class Node:\n",
    "    def __init__(self, feature=None, threshold=None, left=None, right=None, value=None):\n",
    "        self.feature = feature\n",
    "        self.threshold = threshold\n",
    "        self.left = left\n",
    "        self.right = right\n",
    "        self.value = value\n",
    "\n",
    "def build_tree(X, y, depth=0, max_depth=3):\n",
    "    if len(set(y)) == 1 or depth == max_depth:\n",
    "        leaf_value = max(set(y), key=list(y).count)\n",
    "        return Node(value=leaf_value)\n",
    "\n",
    "    feature, threshold = best_split(X, y)\n",
    "    if feature is None:\n",
    "        return Node(value=max(set(y), key=list(y).count))\n",
    "\n",
    "    left_idxs, right_idxs = split(X[:, feature], threshold)\n",
    "    left = build_tree(X[left_idxs], y[left_idxs], depth + 1)\n",
    "    right = build_tree(X[right_idxs], y[right_idxs], depth + 1)\n",
    "    return Node(feature, threshold, left, right)\n"
   ]
  },
  {
   "cell_type": "code",
   "execution_count": 24,
   "id": "17863678-0fe2-40d3-ab60-5be6796683db",
   "metadata": {},
   "outputs": [],
   "source": [
    "def predict(tree, x):\n",
    "    if tree.value is not None:\n",
    "        return tree.value\n",
    "    if x[tree.feature] <= tree.threshold:\n",
    "        return predict(tree.left, x)\n",
    "    else:\n",
    "        return predict(tree.right, x)\n"
   ]
  },
  {
   "cell_type": "code",
   "execution_count": 25,
   "id": "41f71880-4527-4a43-bc58-a1a33988df25",
   "metadata": {},
   "outputs": [],
   "source": [
    "import pandas as pd\n",
    "datas=pd.read_csv(\"data.csv\")\n"
   ]
  },
  {
   "cell_type": "code",
   "execution_count": 26,
   "id": "8f94ac71-6020-447a-a8f5-171523205a08",
   "metadata": {},
   "outputs": [
    {
     "name": "stdout",
     "output_type": "stream",
     "text": [
      "   card  reports       age  income     share  expenditure  owner  selfemp  \\\n",
      "0     1        0  37.66667  4.5200  0.033270   124.983300      1        0   \n",
      "1     1        0  33.25000  2.4200  0.005217     9.854167      0        0   \n",
      "2     1        0  33.66667  4.5000  0.004156    15.000000      1        0   \n",
      "3     1        0  30.50000  2.5400  0.065214   137.869200      0        0   \n",
      "4     1        0  32.16667  9.7867  0.067051   546.503300      1        0   \n",
      "\n",
      "   dependents  months  majorcards  active  \n",
      "0           3      54           1      12  \n",
      "1           3      34           1      13  \n",
      "2           4      58           1       5  \n",
      "3           0      25           1       7  \n",
      "4           2      64           1       5  \n"
     ]
    }
   ],
   "source": [
    "datas[\"card\"] = datas[\"card\"].map({\"yes\": 1, \"no\": 0})\n",
    "datas[\"owner\"] = datas[\"owner\"].map({\"yes\": 1, \"no\": 0})\n",
    "datas[\"selfemp\"] = datas[\"selfemp\"].map({\"yes\": 1, \"no\": 0})\n",
    "print(datas.head())"
   ]
  },
  {
   "cell_type": "code",
   "execution_count": 27,
   "id": "387c770e-0f11-443b-af38-0372a1966fd5",
   "metadata": {},
   "outputs": [
    {
     "name": "stdout",
     "output_type": "stream",
     "text": [
      "Best split: feature=4, threshold=0.0, type=<class 'numpy.float64'>\n",
      "Best split: feature=0, threshold=0.0, type=<class 'numpy.float64'>\n",
      "Best split: feature=10, threshold=1.0, type=<class 'numpy.float64'>\n",
      "Best split: feature=1, threshold=48.25, type=<class 'numpy.float64'>\n"
     ]
    }
   ],
   "source": [
    "X = datas.drop(columns=['card'])\n",
    "y = datas['card']\n",
    "\n",
    "tree = build_tree(X.to_numpy(), y.to_numpy())\n",
    "\n",
    "predictions = [predict(tree, x) for x in X.to_numpy()]\n"
   ]
  },
  {
   "cell_type": "code",
   "execution_count": 28,
   "id": "5a722d23-099f-4dc6-bdc1-f5dbee4b4952",
   "metadata": {},
   "outputs": [
    {
     "name": "stdout",
     "output_type": "stream",
     "text": [
      "reports          int64\n",
      "age            float64\n",
      "income         float64\n",
      "share          float64\n",
      "expenditure    float64\n",
      "owner            int64\n",
      "selfemp          int64\n",
      "dependents       int64\n",
      "months           int64\n",
      "majorcards       int64\n",
      "active           int64\n",
      "dtype: object\n",
      "reports        0\n",
      "age            0\n",
      "income         0\n",
      "share          0\n",
      "expenditure    0\n",
      "owner          0\n",
      "selfemp        0\n",
      "dependents     0\n",
      "months         0\n",
      "majorcards     0\n",
      "active         0\n",
      "dtype: int64\n",
      "0\n",
      "   reports       age  income     share  expenditure  owner  selfemp  \\\n",
      "0        0  37.66667  4.5200  0.033270   124.983300      1        0   \n",
      "1        0  33.25000  2.4200  0.005217     9.854167      0        0   \n",
      "2        0  33.66667  4.5000  0.004156    15.000000      1        0   \n",
      "3        0  30.50000  2.5400  0.065214   137.869200      0        0   \n",
      "4        0  32.16667  9.7867  0.067051   546.503300      1        0   \n",
      "\n",
      "   dependents  months  majorcards  active  \n",
      "0           3      54           1      12  \n",
      "1           3      34           1      13  \n",
      "2           4      58           1       5  \n",
      "3           0      25           1       7  \n",
      "4           2      64           1       5  \n"
     ]
    }
   ],
   "source": [
    "print(X.dtypes)\n",
    "print(X.isnull().sum())\n",
    "print(y.isnull().sum())\n",
    "print(X.head())\n"
   ]
  },
  {
   "cell_type": "code",
   "execution_count": null,
   "id": "e4976e11-b930-450b-bb90-65dbab5d8428",
   "metadata": {},
   "outputs": [],
   "source": []
  }
 ],
 "metadata": {
  "kernelspec": {
   "display_name": "Python 3 (ipykernel)",
   "language": "python",
   "name": "python3"
  },
  "language_info": {
   "codemirror_mode": {
    "name": "ipython",
    "version": 3
   },
   "file_extension": ".py",
   "mimetype": "text/x-python",
   "name": "python",
   "nbconvert_exporter": "python",
   "pygments_lexer": "ipython3",
   "version": "3.12.5"
  }
 },
 "nbformat": 4,
 "nbformat_minor": 5
}
