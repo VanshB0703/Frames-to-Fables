{
 "cells": [
  {
   "cell_type": "code",
   "execution_count": 1,
   "id": "f05ed869-9113-4dd5-b2ea-03bb973b21dd",
   "metadata": {},
   "outputs": [
    {
     "name": "stdout",
     "output_type": "stream",
     "text": [
      "  card  reports       age  income     share  expenditure owner selfemp  \\\n",
      "0  yes        0  37.66667  4.5200  0.033270   124.983300   yes      no   \n",
      "1  yes        0  33.25000  2.4200  0.005217     9.854167    no      no   \n",
      "2  yes        0  33.66667  4.5000  0.004156    15.000000   yes      no   \n",
      "3  yes        0  30.50000  2.5400  0.065214   137.869200    no      no   \n",
      "4  yes        0  32.16667  9.7867  0.067051   546.503300   yes      no   \n",
      "\n",
      "   dependents  months  majorcards  active  \n",
      "0           3      54           1      12  \n",
      "1           3      34           1      13  \n",
      "2           4      58           1       5  \n",
      "3           0      25           1       7  \n",
      "4           2      64           1       5  \n"
     ]
    }
   ],
   "source": [
    "import pandas as pd \n",
    "datas=pd.read_csv(\"data.csv\")\n",
    "print(datas.head())"
   ]
  },
  {
   "cell_type": "code",
   "execution_count": 2,
   "id": "f0e70f33-4eed-4244-ab56-9319ad9a5c6e",
   "metadata": {},
   "outputs": [
    {
     "name": "stdout",
     "output_type": "stream",
     "text": [
      "Requirement already satisfied: scikit-learn in c:\\users\\nyama\\appdata\\local\\programs\\python\\python312\\lib\\site-packages (1.6.1)\n",
      "Requirement already satisfied: numpy>=1.19.5 in c:\\users\\nyama\\appdata\\local\\programs\\python\\python312\\lib\\site-packages (from scikit-learn) (2.1.3)\n",
      "Requirement already satisfied: scipy>=1.6.0 in c:\\users\\nyama\\appdata\\local\\programs\\python\\python312\\lib\\site-packages (from scikit-learn) (1.15.3)\n",
      "Requirement already satisfied: joblib>=1.2.0 in c:\\users\\nyama\\appdata\\local\\programs\\python\\python312\\lib\\site-packages (from scikit-learn) (1.5.0)\n",
      "Requirement already satisfied: threadpoolctl>=3.1.0 in c:\\users\\nyama\\appdata\\local\\programs\\python\\python312\\lib\\site-packages (from scikit-learn) (3.6.0)\n",
      "Note: you may need to restart the kernel to use updated packages.\n"
     ]
    },
    {
     "name": "stderr",
     "output_type": "stream",
     "text": [
      "\n",
      "[notice] A new release of pip is available: 24.3.1 -> 25.1.1\n",
      "[notice] To update, run: C:\\Users\\nyama\\AppData\\Local\\Programs\\Python\\Python312\\python.exe -m pip install --upgrade pip\n"
     ]
    }
   ],
   "source": [
    "pip install scikit-learn\n"
   ]
  },
  {
   "cell_type": "code",
   "execution_count": 3,
   "id": "f7dd4b6e-6f3c-4b1f-b1c8-ee55451b7d76",
   "metadata": {},
   "outputs": [
    {
     "name": "stdout",
     "output_type": "stream",
     "text": [
      "   card  reports       age  income     share  expenditure  owner  selfemp  \\\n",
      "0     1        0  37.66667  4.5200  0.033270   124.983300      1        0   \n",
      "1     1        0  33.25000  2.4200  0.005217     9.854167      0        0   \n",
      "2     1        0  33.66667  4.5000  0.004156    15.000000      1        0   \n",
      "3     1        0  30.50000  2.5400  0.065214   137.869200      0        0   \n",
      "4     1        0  32.16667  9.7867  0.067051   546.503300      1        0   \n",
      "\n",
      "   dependents  months  majorcards  active  \n",
      "0           3      54           1      12  \n",
      "1           3      34           1      13  \n",
      "2           4      58           1       5  \n",
      "3           0      25           1       7  \n",
      "4           2      64           1       5  \n"
     ]
    }
   ],
   "source": [
    "#first converting Charaters by numbers\n",
    "datas[\"card\"] = datas[\"card\"].map({\"yes\": 1, \"no\": 0})\n",
    "datas[\"owner\"] = datas[\"owner\"].map({\"yes\": 1, \"no\": 0})\n",
    "datas[\"selfemp\"] = datas[\"selfemp\"].map({\"yes\": 1, \"no\": 0})\n",
    "print(datas.head())"
   ]
  },
  {
   "cell_type": "code",
   "execution_count": 5,
   "id": "2a096ef0-7758-434a-a5ef-1a5af4543d8f",
   "metadata": {},
   "outputs": [
    {
     "name": "stdout",
     "output_type": "stream",
     "text": [
      "    reports       age    income     share  expenditure  dependents    months  \\\n",
      "0 -0.339397  0.439254  0.681894 -0.374787    -0.220766    1.608362 -0.019135   \n",
      "1 -0.339397  0.003639 -0.558317 -0.671269    -0.643854    1.608362 -0.321037   \n",
      "2 -0.339397  0.044735  0.670083 -0.682486    -0.624944    2.410112  0.041245   \n",
      "3 -0.339397 -0.267592 -0.487448 -0.037185    -0.173411   -0.796887 -0.456893   \n",
      "4 -0.339397 -0.103209  3.792286 -0.017772     1.328281    0.806613  0.131816   \n",
      "\n",
      "   majorcards    active  card  owner  selfemp  \n",
      "0    0.472824  0.793701     1      1        0  \n",
      "1    0.472824  0.952345     1      0        0  \n",
      "2    0.472824 -0.316807     1      1        0  \n",
      "3    0.472824  0.000481     1      0        0  \n",
      "4    0.472824 -0.316807     1      1        0  \n"
     ]
    }
   ],
   "source": [
    "# not to use scaling in tree based algos ####remember\n",
    "\n",
    "# from sklearn.preprocessing import StandardScaler\n",
    "# data = datas.drop(columns=[\"card\", \"owner\", \"selfemp\"])\n",
    "# scaler = StandardScaler()\n",
    "# scaled_values = scaler.fit_transform(data)\n",
    "# scaled_df = pd.DataFrame(scaled_values, columns=data.columns)\n",
    "# scaled_df[\"card\"] = datas[\"card\"]\n",
    "# scaled_df[\"owner\"] = datas[\"owner\"]\n",
    "# scaled_df[\"selfemp\"] = datas[\"selfemp\"]\n",
    "# print(scaled_df.head())\n"
   ]
  },
  {
   "cell_type": "code",
   "execution_count": 6,
   "id": "ac7fa761-0395-49ae-a96c-2990f02ede64",
   "metadata": {},
   "outputs": [],
   "source": [
    "from sklearn.ensemble import RandomForestClassifier \n",
    "from sklearn.model_selection import train_test_split\n",
    "from sklearn.metrics import accuracy_score"
   ]
  },
  {
   "cell_type": "code",
   "execution_count": 7,
   "id": "f3b9f923-2476-47e1-acc6-2d41bf724bde",
   "metadata": {},
   "outputs": [],
   "source": [
    "X = datas.drop(columns=['card'])\n",
    "y = datas['card']"
   ]
  },
  {
   "cell_type": "code",
   "execution_count": 8,
   "id": "49146abe-e784-4db2-b062-e2644b593260",
   "metadata": {},
   "outputs": [],
   "source": [
    "X_train, X_test, y_train, y_test = train_test_split(X, y, test_size=0.3, random_state=42)"
   ]
  },
  {
   "cell_type": "code",
   "execution_count": 9,
   "id": "f89c87ad-cba9-47a7-8a70-7e9be668b950",
   "metadata": {},
   "outputs": [
    {
     "name": "stdout",
     "output_type": "stream",
     "text": [
      "Accuracy: 0.9773\n"
     ]
    }
   ],
   "source": [
    "rf = RandomForestClassifier(n_estimators=100, random_state=42)\n",
    "rf.fit(X_train, y_train)\n",
    "y_pred = rf.predict(X_test)\n",
    "accuracy = accuracy_score(y_test, y_pred)\n",
    "print(f\"Accuracy: {accuracy:.4f}\")"
   ]
  },
  {
   "cell_type": "code",
   "execution_count": 10,
   "id": "f34e3126-5caa-4e13-8a92-7feac42bfde6",
   "metadata": {},
   "outputs": [],
   "source": [
    "from sklearn.model_selection import GridSearchCV\n",
    "param_grid = {\n",
    "    'n_estimators': [100, 200, 500],\n",
    "    'max_depth': [None, 10, 20, 30],\n",
    "    'min_samples_split': [2, 5, 10]\n",
    "}"
   ]
  },
  {
   "cell_type": "code",
   "execution_count": 11,
   "id": "5d1a92a6-82ea-4f72-821b-f902f2531edb",
   "metadata": {},
   "outputs": [
    {
     "name": "stdout",
     "output_type": "stream",
     "text": [
      "Best params: {'max_depth': None, 'min_samples_split': 2, 'n_estimators': 100}\n",
      "Best cross-validation accuracy: 0.9859283196239718\n",
      "Test accuracy: 0.9772727272727273\n"
     ]
    }
   ],
   "source": [
    "\n",
    "# trying to find better parameters\n",
    "rf = RandomForestClassifier(random_state=42)\n",
    "grid_search = GridSearchCV(estimator=rf, param_grid=param_grid, cv=5, scoring='accuracy')\n",
    "grid_search.fit(X_train, y_train)\n",
    "\n",
    "print(\"Best params:\", grid_search.best_params_)\n",
    "print(\"Best cross-validation accuracy:\", grid_search.best_score_)\n",
    "\n",
    "best_rf = grid_search.best_estimator_\n",
    "y_pred = best_rf.predict(X_test)\n",
    "print(\"Test accuracy:\", accuracy_score(y_test, y_pred))"
   ]
  },
  {
   "cell_type": "code",
   "execution_count": null,
   "id": "5c76e9a6-745c-4c32-906b-50421394e1d1",
   "metadata": {},
   "outputs": [],
   "source": []
  }
 ],
 "metadata": {
  "kernelspec": {
   "display_name": "Python 3 (ipykernel)",
   "language": "python",
   "name": "python3"
  },
  "language_info": {
   "codemirror_mode": {
    "name": "ipython",
    "version": 3
   },
   "file_extension": ".py",
   "mimetype": "text/x-python",
   "name": "python",
   "nbconvert_exporter": "python",
   "pygments_lexer": "ipython3",
   "version": "3.12.5"
  }
 },
 "nbformat": 4,
 "nbformat_minor": 5
}
