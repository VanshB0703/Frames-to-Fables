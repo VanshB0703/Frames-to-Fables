{
  "nbformat": 4,
  "nbformat_minor": 0,
  "metadata": {
    "colab": {
      "provenance": []
    },
    "kernelspec": {
      "name": "python3",
      "display_name": "Python 3"
    },
    "language_info": {
      "name": "python"
    }
  },
  "cells": [
    {
      "cell_type": "markdown",
      "source": [],
      "metadata": {
        "id": "otsTv-I5TmON"
      }
    },
    {
      "cell_type": "markdown",
      "source": [
        "**Section A (2 Marks each)**"
      ],
      "metadata": {
        "id": "L1LO8jByTojK"
      }
    },
    {
      "cell_type": "markdown",
      "source": [
        "*NumPy (Numerical Python)*"
      ],
      "metadata": {
        "id": "8rwvV-PaT7j_"
      }
    },
    {
      "cell_type": "code",
      "source": [
        "import numpy as np"
      ],
      "metadata": {
        "id": "xldMxN8FU3pu"
      },
      "execution_count": 308,
      "outputs": []
    },
    {
      "cell_type": "code",
      "execution_count": 309,
      "metadata": {
        "colab": {
          "base_uri": "https://localhost:8080/"
        },
        "id": "HPGXCdERaNu7",
        "outputId": "896f6236-a3f7-4672-83c0-8e6b357f841e"
      },
      "outputs": [
        {
          "output_type": "stream",
          "name": "stdout",
          "text": [
            "[[0.2995132  0.40430071 0.23078416 0.44077226 0.38514321]]\n",
            "[[ 1  2  3]\n",
            " [ 3 43  5]\n",
            " [34 56 76]]\n"
          ]
        }
      ],
      "source": [
        "# Python list to initialize a one dimensional NumPy array of numbers 1 to 5 and then print it\n",
        "a = np.random.rand(1,5)\n",
        "b=np.array(a)\n",
        "print(b)\n",
        "\n",
        "# Python list to initialize a two dimensional NumPy array of shape [3,3] and then print it\n",
        "c = [[1,2,3],[3,43,5],[34,56,76]]\n",
        "k = np.array(c)\n",
        "print(k)\n"
      ]
    },
    {
      "cell_type": "code",
      "source": [
        "# Write a NumPy function to create an array with random values of shape [3,4]\n",
        "a = np.random.rand(3,4)\n",
        "print(a)\n",
        "\n",
        "# Write a NumPy function to create an array with all elements initialized as zero of shape [3,4]\n",
        "c = np.zeros((3,4))\n",
        "print(c)\n",
        "\n",
        "# Write a NumPy function to create an array with all elements initialized as ones of shape [3,4]\n",
        "d = np.ones((3,4))\n",
        "print(d)"
      ],
      "metadata": {
        "colab": {
          "base_uri": "https://localhost:8080/"
        },
        "id": "Q-qvvPojZBdS",
        "outputId": "79429c46-0b89-42f9-bc27-e68918afd2cb"
      },
      "execution_count": 310,
      "outputs": [
        {
          "output_type": "stream",
          "name": "stdout",
          "text": [
            "[[0.60503335 0.14876305 0.64814956 0.49220019]\n",
            " [0.34860656 0.48843974 0.63000732 0.92204537]\n",
            " [0.88263807 0.12846497 0.21576407 0.46649769]]\n",
            "[[0. 0. 0. 0.]\n",
            " [0. 0. 0. 0.]\n",
            " [0. 0. 0. 0.]]\n",
            "[[1. 1. 1. 1.]\n",
            " [1. 1. 1. 1.]\n",
            " [1. 1. 1. 1.]]\n"
          ]
        }
      ]
    },
    {
      "cell_type": "code",
      "source": [
        "# Write a NumPy function to create an array containing a range of evenly spaced intervals\n",
        "# Hint : Use np.arange or np.linspace\n",
        "\n",
        "a = np.linspace(3,77,6)\n",
        "print(a)"
      ],
      "metadata": {
        "colab": {
          "base_uri": "https://localhost:8080/"
        },
        "id": "zlDd5rRjbYJY",
        "outputId": "a964e953-a4ea-458a-d9ac-90a3ca358a97"
      },
      "execution_count": 311,
      "outputs": [
        {
          "output_type": "stream",
          "name": "stdout",
          "text": [
            "[ 3.  17.8 32.6 47.4 62.2 77. ]\n"
          ]
        }
      ]
    },
    {
      "cell_type": "code",
      "source": [
        "a = np.array([[-4,6,8], [9, 3, 1], [1, 8, 5]])\n",
        "b = np.array([[11,16,18], [90, 37, 81], [61, 48, 75]])"
      ],
      "metadata": {
        "id": "BocBq8I8dcGc"
      },
      "execution_count": 312,
      "outputs": []
    },
    {
      "cell_type": "code",
      "source": [
        "# Write a NumPy function to add, subtract, multiply and divide arrays 'a' and 'b'\n",
        "print(a+b)\n",
        "print(a-b)\n",
        "print(a*b)\n",
        "print(a/b)"
      ],
      "metadata": {
        "colab": {
          "base_uri": "https://localhost:8080/"
        },
        "collapsed": true,
        "id": "Yu0DMDU6dcNH",
        "outputId": "e463d90f-5e05-48f1-fd3d-b081de9ff9de"
      },
      "execution_count": 313,
      "outputs": [
        {
          "output_type": "stream",
          "name": "stdout",
          "text": [
            "[[ 7 22 26]\n",
            " [99 40 82]\n",
            " [62 56 80]]\n",
            "[[-15 -10 -10]\n",
            " [-81 -34 -80]\n",
            " [-60 -40 -70]]\n",
            "[[-44  96 144]\n",
            " [810 111  81]\n",
            " [ 61 384 375]]\n",
            "[[-0.36363636  0.375       0.44444444]\n",
            " [ 0.1         0.08108108  0.01234568]\n",
            " [ 0.01639344  0.16666667  0.06666667]]\n"
          ]
        }
      ]
    },
    {
      "cell_type": "code",
      "source": [
        "# Write a NumPy function to get the sum of the array 'a' along axis=0\n",
        "print(a.sum(axis=0))\n",
        "\n",
        "# Write a NumPy function to get the sum of the array 'a' along axis=1\n",
        "print(a.sum(axis = 1))"
      ],
      "metadata": {
        "colab": {
          "base_uri": "https://localhost:8080/"
        },
        "collapsed": true,
        "id": "80T7Q3ofeF8s",
        "outputId": "9590bedb-8543-48c4-aa3a-c9e6cef51b9f"
      },
      "execution_count": 314,
      "outputs": [
        {
          "output_type": "stream",
          "name": "stdout",
          "text": [
            "[ 6 17 14]\n",
            "[10 13 14]\n"
          ]
        }
      ]
    },
    {
      "cell_type": "code",
      "source": [
        "# Write a NumPy function to reverse the array 'a'\n",
        "c=a[::-1]\n",
        "print(c)\n",
        "# Write a NumPy function to reverse the array 'a' along axis=0\n",
        "print(a[:,::-1])\n",
        "\n",
        "# Write a NumPy function to reverse the array 'a' along axis=1\n",
        "print(a[::-1,:])"
      ],
      "metadata": {
        "colab": {
          "base_uri": "https://localhost:8080/"
        },
        "id": "Fu4fWDwdfUdj",
        "outputId": "08b78317-23a5-4067-ba22-f8dfd8aacc0c"
      },
      "execution_count": 315,
      "outputs": [
        {
          "output_type": "stream",
          "name": "stdout",
          "text": [
            "[[ 1  8  5]\n",
            " [ 9  3  1]\n",
            " [-4  6  8]]\n",
            "[[ 8  6 -4]\n",
            " [ 1  3  9]\n",
            " [ 5  8  1]]\n",
            "[[ 1  8  5]\n",
            " [ 9  3  1]\n",
            " [-4  6  8]]\n"
          ]
        }
      ]
    },
    {
      "cell_type": "code",
      "source": [
        "a = np.array([[-4,6,8], [9, 3, 1], [1, 8, 5]])\n",
        "b = np.array([[11,16,18], [90, 37, 81], [61, 48, 75]])"
      ],
      "metadata": {
        "id": "N9lYLc40hH0O"
      },
      "execution_count": 316,
      "outputs": []
    },
    {
      "cell_type": "code",
      "source": [
        "# Write a NumPy function to sort the array 'a'\n",
        "print(np.sort(a))\n",
        "\n",
        "# Write a NumPy function to sort the array 'a' along axis=0\n",
        "print(np.sort(a,axis=0))\n",
        "\n",
        "# Write a NumPy function to sort the array 'a' along axis=1\n",
        "print(np.sort(a,axis=1))\n",
        "\n",
        "# Write a NumPy function to sort the array 'a' in descending order along axis=0\n",
        "f=np.sort(a,axis=0)\n",
        "print(f[::-1,:])\n"
      ],
      "metadata": {
        "colab": {
          "base_uri": "https://localhost:8080/"
        },
        "id": "6RU3VqrZhT6A",
        "outputId": "d02798e9-c467-43be-b2e2-c39307d4e277"
      },
      "execution_count": 317,
      "outputs": [
        {
          "output_type": "stream",
          "name": "stdout",
          "text": [
            "[[-4  6  8]\n",
            " [ 1  3  9]\n",
            " [ 1  5  8]]\n",
            "[[-4  3  1]\n",
            " [ 1  6  5]\n",
            " [ 9  8  8]]\n",
            "[[-4  6  8]\n",
            " [ 1  3  9]\n",
            " [ 1  5  8]]\n",
            "[[ 9  8  8]\n",
            " [ 1  6  5]\n",
            " [-4  3  1]]\n"
          ]
        }
      ]
    },
    {
      "cell_type": "code",
      "source": [
        "# Write a NumPy function to argsort the array along axis=0\n",
        "print(a.argsort(axis=0))\n",
        "\n",
        "# Write a NumPy function to argsort the array along axis=1\n",
        "print(a.argsort(axis=1))\n"
      ],
      "metadata": {
        "colab": {
          "base_uri": "https://localhost:8080/"
        },
        "id": "iY6dpXuhm4Xk",
        "outputId": "f3abf640-88c2-4df6-e960-669d3513fb2a"
      },
      "execution_count": 318,
      "outputs": [
        {
          "output_type": "stream",
          "name": "stdout",
          "text": [
            "[[0 1 1]\n",
            " [2 0 2]\n",
            " [1 2 0]]\n",
            "[[0 1 2]\n",
            " [2 1 0]\n",
            " [0 2 1]]\n"
          ]
        }
      ]
    },
    {
      "cell_type": "code",
      "source": [
        "# Write a NumPy function to concatenate the arrays 'a' and 'b'\n",
        "print(np.concatenate((a,b),axis=0))\n",
        "print(np.concatenate((a,b),axis=1))\n",
        "\n",
        "# Write a NumPy function to concatenate the arrays 'a' and 'b' along axis = 0\n",
        "print(np.concatenate((a,b),axis=0))\n",
        "\n",
        "# Note: You can do the same function using stacking, discover and try that :)\n",
        "print(np.concatenate((a,b),axis=1))"
      ],
      "metadata": {
        "colab": {
          "base_uri": "https://localhost:8080/"
        },
        "id": "jNtWXMD4n4iF",
        "outputId": "ca85f5c2-c15c-457f-87ef-b65532e9570c"
      },
      "execution_count": 319,
      "outputs": [
        {
          "output_type": "stream",
          "name": "stdout",
          "text": [
            "[[-4  6  8]\n",
            " [ 9  3  1]\n",
            " [ 1  8  5]\n",
            " [11 16 18]\n",
            " [90 37 81]\n",
            " [61 48 75]]\n",
            "[[-4  6  8 11 16 18]\n",
            " [ 9  3  1 90 37 81]\n",
            " [ 1  8  5 61 48 75]]\n",
            "[[-4  6  8]\n",
            " [ 9  3  1]\n",
            " [ 1  8  5]\n",
            " [11 16 18]\n",
            " [90 37 81]\n",
            " [61 48 75]]\n",
            "[[-4  6  8 11 16 18]\n",
            " [ 9  3  1 90 37 81]\n",
            " [ 1  8  5 61 48 75]]\n"
          ]
        }
      ]
    },
    {
      "cell_type": "code",
      "source": [
        "a = np.array([[4,6,8], [9, 3, 1], [1, 8, 5]])"
      ],
      "metadata": {
        "id": "Jq7dK8_OqvGm"
      },
      "execution_count": 320,
      "outputs": []
    },
    {
      "cell_type": "code",
      "source": [
        " #Write a NumPy function to get the Number of dimensions\n",
        "print(a.ndim)\n",
        "\n",
        "# Write a NumPy function to get the Shape of the array\n",
        "print(a.shape)\n",
        "\n",
        "# Write a NumPy function to get the Size of the array\n",
        "print(a.size)\n"
      ],
      "metadata": {
        "colab": {
          "base_uri": "https://localhost:8080/"
        },
        "id": "XDptg0A7q_bC",
        "outputId": "67da21f7-298e-43dc-a692-eb449049396e"
      },
      "execution_count": 321,
      "outputs": [
        {
          "output_type": "stream",
          "name": "stdout",
          "text": [
            "2\n",
            "(3, 3)\n",
            "9\n"
          ]
        }
      ]
    },
    {
      "cell_type": "code",
      "source": [
        "# Write a NumPy function to Reshape the array 'a' to the dimension (1,9)\n",
        "print(a.reshape(1,9))"
      ],
      "metadata": {
        "colab": {
          "base_uri": "https://localhost:8080/"
        },
        "id": "H9KqZQgssTLZ",
        "outputId": "75083111-92ab-4bbf-903a-958bff29746e"
      },
      "execution_count": 322,
      "outputs": [
        {
          "output_type": "stream",
          "name": "stdout",
          "text": [
            "[[4 6 8 9 3 1 1 8 5]]\n"
          ]
        }
      ]
    },
    {
      "cell_type": "code",
      "source": [],
      "metadata": {
        "id": "I9M9_ShItv4x"
      },
      "execution_count": 322,
      "outputs": []
    },
    {
      "cell_type": "code",
      "source": [
        "# Write a NumPy function to add a new axis to the array 'a'\n",
        "# Note : Show atleast two different ways of doing this\n",
        "\n",
        "#method 1\n",
        "np.expand_dims(a,axis = 0)\n",
        "\n",
        "#method 2\n",
        "a[:,np.newaxis]"
      ],
      "metadata": {
        "colab": {
          "base_uri": "https://localhost:8080/"
        },
        "id": "EuLrSDwxsnKa",
        "outputId": "e35483f8-2a45-401a-e408-5e48c1aba551"
      },
      "execution_count": 323,
      "outputs": [
        {
          "output_type": "execute_result",
          "data": {
            "text/plain": [
              "array([[[4, 6, 8]],\n",
              "\n",
              "       [[9, 3, 1]],\n",
              "\n",
              "       [[1, 8, 5]]])"
            ]
          },
          "metadata": {},
          "execution_count": 323
        }
      ]
    },
    {
      "cell_type": "code",
      "source": [
        "a = np.array([[4,6,0], [0, 3, 1], [1, 8, 5]])"
      ],
      "metadata": {
        "id": "KkcO0TnWunA4"
      },
      "execution_count": 324,
      "outputs": []
    },
    {
      "cell_type": "code",
      "source": [
        "# Write a NumPy function to index and slice NumPy arrays similar to Python lists\n",
        "# Show all three - indexing by a integer, indexing by a tuple, using range\n",
        "\n",
        "#indexing by integer\n",
        "print(\"Row at index 1:\", a[1])\n",
        "print(\"Element at row 1, column 2:\", a[1][2])\n",
        "\n",
        "#by topule\n",
        "print(\"Element at (2, 1):\", a[2, 1])\n",
        "print(\"Element at (0, 0):\", a[0, 0])\n",
        "\n",
        "#by slucing\n",
        "print(\"First two rows:\\n\", a[0:2])\n",
        "\n",
        "print(\"All rows, first two columns:\\n\", a[:, 0:2])\n",
        "\n",
        "\n",
        "print(\"Last row:\", a[-1])\n"
      ],
      "metadata": {
        "colab": {
          "base_uri": "https://localhost:8080/"
        },
        "id": "zL5VkemCuoF7",
        "outputId": "662f7c3a-a1dc-4fae-8997-5dcb83edc3df"
      },
      "execution_count": 325,
      "outputs": [
        {
          "output_type": "stream",
          "name": "stdout",
          "text": [
            "Row at index 1: [0 3 1]\n",
            "Element at row 1, column 2: 1\n",
            "Element at (2, 1): 8\n",
            "Element at (0, 0): 4\n",
            "First two rows:\n",
            " [[4 6 0]\n",
            " [0 3 1]]\n",
            "All rows, first two columns:\n",
            " [[4 6]\n",
            " [0 3]\n",
            " [1 8]]\n",
            "Last row: [1 8 5]\n"
          ]
        }
      ]
    },
    {
      "cell_type": "code",
      "source": [
        "# Write a NumPy function to select values satisfying a specific condition like Values greater than 4\n",
        "print(a[a>4])\n",
        "\n",
        "# Write a NumPy function to select values satisfying mulitple conditions like Values greater than 4 and divisible by 2\n",
        "print(a[(a>4) & (a%2==0)])"
      ],
      "metadata": {
        "colab": {
          "base_uri": "https://localhost:8080/"
        },
        "id": "9LrM9nExvxXp",
        "outputId": "6a830abb-153c-4808-cff6-7cfde304a6ce"
      },
      "execution_count": 326,
      "outputs": [
        {
          "output_type": "stream",
          "name": "stdout",
          "text": [
            "[6 8 5]\n",
            "[6 8]\n"
          ]
        }
      ]
    },
    {
      "cell_type": "code",
      "source": [
        "a = np.array([[4,6,0], [0, 3, 1], [1, 8, 5]])"
      ],
      "metadata": {
        "id": "s9MJx5xaw0-v"
      },
      "execution_count": 327,
      "outputs": []
    },
    {
      "cell_type": "code",
      "source": [
        "# Write a NumPy function to copy the array 'a' and finally print an array where all elements are increased by 1\n",
        "new = a.copy()\n",
        "new = new + 1\n",
        "print(new)\n",
        ""
      ],
      "metadata": {
        "colab": {
          "base_uri": "https://localhost:8080/"
        },
        "id": "NPVVJcvHw6T7",
        "outputId": "dd91b4b1-ca74-4c0f-a5c8-30f65f8347da"
      },
      "execution_count": 328,
      "outputs": [
        {
          "output_type": "stream",
          "name": "stdout",
          "text": [
            "[[5 7 1]\n",
            " [1 4 2]\n",
            " [2 9 6]]\n"
          ]
        }
      ]
    },
    {
      "cell_type": "code",
      "source": [
        "import pandas as pd\n",
        "\n",
        "from google.colab import files\n",
        "uploaded = files.upload()\n",
        "\n",
        "data = pd.read_csv('iris.data.txt', header=None)\n",
        "print(data.head())\n",
        "#iris_2d = np.genfromtxt(url, delimiter=',', dtype='float', usecols=[0,1,2,3])"
      ],
      "metadata": {
        "colab": {
          "base_uri": "https://localhost:8080/",
          "height": 177
        },
        "id": "KocMvIwO0nUz",
        "outputId": "465dd2bc-e370-421b-9e81-1e7ac89ce2d1"
      },
      "execution_count": 329,
      "outputs": [
        {
          "output_type": "display_data",
          "data": {
            "text/plain": [
              "<IPython.core.display.HTML object>"
            ],
            "text/html": [
              "\n",
              "     <input type=\"file\" id=\"files-ca3b64b8-8247-4b7f-be7e-bc1b05af18f7\" name=\"files[]\" multiple disabled\n",
              "        style=\"border:none\" />\n",
              "     <output id=\"result-ca3b64b8-8247-4b7f-be7e-bc1b05af18f7\">\n",
              "      Upload widget is only available when the cell has been executed in the\n",
              "      current browser session. Please rerun this cell to enable.\n",
              "      </output>\n",
              "      <script>// Copyright 2017 Google LLC\n",
              "//\n",
              "// Licensed under the Apache License, Version 2.0 (the \"License\");\n",
              "// you may not use this file except in compliance with the License.\n",
              "// You may obtain a copy of the License at\n",
              "//\n",
              "//      http://www.apache.org/licenses/LICENSE-2.0\n",
              "//\n",
              "// Unless required by applicable law or agreed to in writing, software\n",
              "// distributed under the License is distributed on an \"AS IS\" BASIS,\n",
              "// WITHOUT WARRANTIES OR CONDITIONS OF ANY KIND, either express or implied.\n",
              "// See the License for the specific language governing permissions and\n",
              "// limitations under the License.\n",
              "\n",
              "/**\n",
              " * @fileoverview Helpers for google.colab Python module.\n",
              " */\n",
              "(function(scope) {\n",
              "function span(text, styleAttributes = {}) {\n",
              "  const element = document.createElement('span');\n",
              "  element.textContent = text;\n",
              "  for (const key of Object.keys(styleAttributes)) {\n",
              "    element.style[key] = styleAttributes[key];\n",
              "  }\n",
              "  return element;\n",
              "}\n",
              "\n",
              "// Max number of bytes which will be uploaded at a time.\n",
              "const MAX_PAYLOAD_SIZE = 100 * 1024;\n",
              "\n",
              "function _uploadFiles(inputId, outputId) {\n",
              "  const steps = uploadFilesStep(inputId, outputId);\n",
              "  const outputElement = document.getElementById(outputId);\n",
              "  // Cache steps on the outputElement to make it available for the next call\n",
              "  // to uploadFilesContinue from Python.\n",
              "  outputElement.steps = steps;\n",
              "\n",
              "  return _uploadFilesContinue(outputId);\n",
              "}\n",
              "\n",
              "// This is roughly an async generator (not supported in the browser yet),\n",
              "// where there are multiple asynchronous steps and the Python side is going\n",
              "// to poll for completion of each step.\n",
              "// This uses a Promise to block the python side on completion of each step,\n",
              "// then passes the result of the previous step as the input to the next step.\n",
              "function _uploadFilesContinue(outputId) {\n",
              "  const outputElement = document.getElementById(outputId);\n",
              "  const steps = outputElement.steps;\n",
              "\n",
              "  const next = steps.next(outputElement.lastPromiseValue);\n",
              "  return Promise.resolve(next.value.promise).then((value) => {\n",
              "    // Cache the last promise value to make it available to the next\n",
              "    // step of the generator.\n",
              "    outputElement.lastPromiseValue = value;\n",
              "    return next.value.response;\n",
              "  });\n",
              "}\n",
              "\n",
              "/**\n",
              " * Generator function which is called between each async step of the upload\n",
              " * process.\n",
              " * @param {string} inputId Element ID of the input file picker element.\n",
              " * @param {string} outputId Element ID of the output display.\n",
              " * @return {!Iterable<!Object>} Iterable of next steps.\n",
              " */\n",
              "function* uploadFilesStep(inputId, outputId) {\n",
              "  const inputElement = document.getElementById(inputId);\n",
              "  inputElement.disabled = false;\n",
              "\n",
              "  const outputElement = document.getElementById(outputId);\n",
              "  outputElement.innerHTML = '';\n",
              "\n",
              "  const pickedPromise = new Promise((resolve) => {\n",
              "    inputElement.addEventListener('change', (e) => {\n",
              "      resolve(e.target.files);\n",
              "    });\n",
              "  });\n",
              "\n",
              "  const cancel = document.createElement('button');\n",
              "  inputElement.parentElement.appendChild(cancel);\n",
              "  cancel.textContent = 'Cancel upload';\n",
              "  const cancelPromise = new Promise((resolve) => {\n",
              "    cancel.onclick = () => {\n",
              "      resolve(null);\n",
              "    };\n",
              "  });\n",
              "\n",
              "  // Wait for the user to pick the files.\n",
              "  const files = yield {\n",
              "    promise: Promise.race([pickedPromise, cancelPromise]),\n",
              "    response: {\n",
              "      action: 'starting',\n",
              "    }\n",
              "  };\n",
              "\n",
              "  cancel.remove();\n",
              "\n",
              "  // Disable the input element since further picks are not allowed.\n",
              "  inputElement.disabled = true;\n",
              "\n",
              "  if (!files) {\n",
              "    return {\n",
              "      response: {\n",
              "        action: 'complete',\n",
              "      }\n",
              "    };\n",
              "  }\n",
              "\n",
              "  for (const file of files) {\n",
              "    const li = document.createElement('li');\n",
              "    li.append(span(file.name, {fontWeight: 'bold'}));\n",
              "    li.append(span(\n",
              "        `(${file.type || 'n/a'}) - ${file.size} bytes, ` +\n",
              "        `last modified: ${\n",
              "            file.lastModifiedDate ? file.lastModifiedDate.toLocaleDateString() :\n",
              "                                    'n/a'} - `));\n",
              "    const percent = span('0% done');\n",
              "    li.appendChild(percent);\n",
              "\n",
              "    outputElement.appendChild(li);\n",
              "\n",
              "    const fileDataPromise = new Promise((resolve) => {\n",
              "      const reader = new FileReader();\n",
              "      reader.onload = (e) => {\n",
              "        resolve(e.target.result);\n",
              "      };\n",
              "      reader.readAsArrayBuffer(file);\n",
              "    });\n",
              "    // Wait for the data to be ready.\n",
              "    let fileData = yield {\n",
              "      promise: fileDataPromise,\n",
              "      response: {\n",
              "        action: 'continue',\n",
              "      }\n",
              "    };\n",
              "\n",
              "    // Use a chunked sending to avoid message size limits. See b/62115660.\n",
              "    let position = 0;\n",
              "    do {\n",
              "      const length = Math.min(fileData.byteLength - position, MAX_PAYLOAD_SIZE);\n",
              "      const chunk = new Uint8Array(fileData, position, length);\n",
              "      position += length;\n",
              "\n",
              "      const base64 = btoa(String.fromCharCode.apply(null, chunk));\n",
              "      yield {\n",
              "        response: {\n",
              "          action: 'append',\n",
              "          file: file.name,\n",
              "          data: base64,\n",
              "        },\n",
              "      };\n",
              "\n",
              "      let percentDone = fileData.byteLength === 0 ?\n",
              "          100 :\n",
              "          Math.round((position / fileData.byteLength) * 100);\n",
              "      percent.textContent = `${percentDone}% done`;\n",
              "\n",
              "    } while (position < fileData.byteLength);\n",
              "  }\n",
              "\n",
              "  // All done.\n",
              "  yield {\n",
              "    response: {\n",
              "      action: 'complete',\n",
              "    }\n",
              "  };\n",
              "}\n",
              "\n",
              "scope.google = scope.google || {};\n",
              "scope.google.colab = scope.google.colab || {};\n",
              "scope.google.colab._files = {\n",
              "  _uploadFiles,\n",
              "  _uploadFilesContinue,\n",
              "};\n",
              "})(self);\n",
              "</script> "
            ]
          },
          "metadata": {}
        },
        {
          "output_type": "stream",
          "name": "stdout",
          "text": [
            "Saving iris.data.txt to iris.data (2).txt\n",
            "     0    1    2    3            4\n",
            "0  5.1  3.5  1.4  0.2  Iris-setosa\n",
            "1  4.9  3.0  1.4  0.2  Iris-setosa\n",
            "2  4.7  3.2  1.3  0.2  Iris-setosa\n",
            "3  4.6  3.1  1.5  0.2  Iris-setosa\n",
            "4  5.0  3.6  1.4  0.2  Iris-setosa\n"
          ]
        }
      ]
    },
    {
      "cell_type": "code",
      "source": [
        "# Write a Pandas function to drop rows that contain a missing value\n",
        "new_data = data.dropna()\n",
        "new_data.columns = ['sepal_length', 'sepal_width', 'petal_length', 'petal_width', 'species']\n",
        "print(new_data)\n",
        "#print(new_data.columns)\n"
      ],
      "metadata": {
        "colab": {
          "base_uri": "https://localhost:8080/"
        },
        "id": "pSGbHeey0qIl",
        "outputId": "a8c1535a-fdd1-45e7-d6d8-d38043a10171"
      },
      "execution_count": 330,
      "outputs": [
        {
          "output_type": "stream",
          "name": "stdout",
          "text": [
            "     sepal_length  sepal_width  petal_length  petal_width         species\n",
            "0             5.1          3.5           1.4          0.2     Iris-setosa\n",
            "1             4.9          3.0           1.4          0.2     Iris-setosa\n",
            "2             4.7          3.2           1.3          0.2     Iris-setosa\n",
            "3             4.6          3.1           1.5          0.2     Iris-setosa\n",
            "4             5.0          3.6           1.4          0.2     Iris-setosa\n",
            "..            ...          ...           ...          ...             ...\n",
            "145           6.7          3.0           5.2          2.3  Iris-virginica\n",
            "146           6.3          2.5           5.0          1.9  Iris-virginica\n",
            "147           6.5          3.0           5.2          2.0  Iris-virginica\n",
            "148           6.2          3.4           5.4          2.3  Iris-virginica\n",
            "149           5.9          3.0           5.1          1.8  Iris-virginica\n",
            "\n",
            "[150 rows x 5 columns]\n"
          ]
        }
      ]
    },
    {
      "cell_type": "code",
      "source": [
        "# Write a Pandas function to find the correlation between the first two columns.\n",
        "correlation = new_data.iloc[:, [0, 1]].corr()\n",
        "print(correlation)"
      ],
      "metadata": {
        "colab": {
          "base_uri": "https://localhost:8080/"
        },
        "id": "aV8Wh0RsCCEh",
        "outputId": "441924c6-38f3-40ee-b4b8-6ac92d8132b8"
      },
      "execution_count": 331,
      "outputs": [
        {
          "output_type": "stream",
          "name": "stdout",
          "text": [
            "              sepal_length  sepal_width\n",
            "sepal_length      1.000000    -0.109369\n",
            "sepal_width      -0.109369     1.000000\n"
          ]
        }
      ]
    },
    {
      "cell_type": "code",
      "source": [
        "# Write a Pandas function to find the mean, median and standard deviation of column 3.\n",
        "print( new_data.iloc[:,2].mean())\n",
        "print( new_data.iloc[:,2].median())\n",
        "print( new_data.iloc[:,2].std())\n"
      ],
      "metadata": {
        "colab": {
          "base_uri": "https://localhost:8080/"
        },
        "id": "HhhTRLdmDwUs",
        "outputId": "b2115de8-481a-49cd-f664-e829d18f5d7f"
      },
      "execution_count": 332,
      "outputs": [
        {
          "output_type": "stream",
          "name": "stdout",
          "text": [
            "3.758666666666666\n",
            "4.35\n",
            "1.7644204199522617\n"
          ]
        }
      ]
    },
    {
      "cell_type": "code",
      "source": [
        "# Write a Pandas function to create a new column for volume in iris_2d, where volume is (pi x petallength x sepal_length^2)/3\n",
        "# Hints:\n",
        "# 1. Introduce new dimension to match iris_2d's\n",
        "# 2. Add the new column\n",
        "print(new_data.columns)\n",
        "new_data['volume'] = (np.pi * new_data['petal_length'] * (new_data['sepal_length'] ** 2)) / 3\n",
        "print(new_data.head())\n"
      ],
      "metadata": {
        "colab": {
          "base_uri": "https://localhost:8080/"
        },
        "id": "e2tbK-h4FBHt",
        "outputId": "0d67c8bc-0007-4fe8-842a-2ddbf19d8144"
      },
      "execution_count": 333,
      "outputs": [
        {
          "output_type": "stream",
          "name": "stdout",
          "text": [
            "Index(['sepal_length', 'sepal_width', 'petal_length', 'petal_width',\n",
            "       'species'],\n",
            "      dtype='object')\n",
            "   sepal_length  sepal_width  petal_length  petal_width      species  \\\n",
            "0           5.1          3.5           1.4          0.2  Iris-setosa   \n",
            "1           4.9          3.0           1.4          0.2  Iris-setosa   \n",
            "2           4.7          3.2           1.3          0.2  Iris-setosa   \n",
            "3           4.6          3.1           1.5          0.2  Iris-setosa   \n",
            "4           5.0          3.6           1.4          0.2  Iris-setosa   \n",
            "\n",
            "      volume  \n",
            "0  38.132652  \n",
            "1  35.200498  \n",
            "2  30.072372  \n",
            "3  33.238050  \n",
            "4  36.651914  \n"
          ]
        }
      ]
    },
    {
      "cell_type": "markdown",
      "source": [
        "## **Section B (2 Marks each)**"
      ],
      "metadata": {
        "id": "wq5MunLeIgSy"
      }
    },
    {
      "cell_type": "markdown",
      "source": [
        "Q1 Let x = np.arange(4, dtype=np.int64). Create an array of ones with the same shape and type as X."
      ],
      "metadata": {
        "id": "XBtb2ZJZIrhd"
      }
    },
    {
      "cell_type": "code",
      "source": [
        "\n",
        "x = np.arange(4, dtype=np.int64)\n",
        "\n",
        "ones_array = np.ones_like(x)\n",
        "\n",
        "print(ones_array)\n",
        "print(ones_array.dtype)\n"
      ],
      "metadata": {
        "colab": {
          "base_uri": "https://localhost:8080/"
        },
        "id": "La3XGDdzIlOt",
        "outputId": "ad63819c-2ea5-4d7b-bd02-fb7e1aec9257"
      },
      "execution_count": 334,
      "outputs": [
        {
          "output_type": "stream",
          "name": "stdout",
          "text": [
            "[1 1 1 1]\n",
            "int64\n"
          ]
        }
      ]
    },
    {
      "cell_type": "markdown",
      "source": [
        "Q2 Let x be an array [1, 2, 3, ..., 9]. Split x into 3 arrays, each of which has 4, 2, and 3 elements in the original order."
      ],
      "metadata": {
        "id": "IVAqS4eGJE_I"
      }
    },
    {
      "cell_type": "code",
      "source": [
        "\n",
        "x = np.arange(1, 10)\n",
        "\n",
        "# Split sizes: 4, 2, 3\n",
        "split_indices = [4, 6]\n",
        "\n",
        "result = np.split(x, split_indices)\n",
        "\n",
        "for arr in result:\n",
        "    print(arr)\n"
      ],
      "metadata": {
        "colab": {
          "base_uri": "https://localhost:8080/"
        },
        "id": "G-KGD9q7JJKc",
        "outputId": "09d7a52e-6ba7-456c-990a-d6952f3e9066"
      },
      "execution_count": 335,
      "outputs": [
        {
          "output_type": "stream",
          "name": "stdout",
          "text": [
            "[1 2 3 4]\n",
            "[5 6]\n",
            "[7 8 9]\n"
          ]
        }
      ]
    },
    {
      "cell_type": "markdown",
      "source": [
        "Q3 Initiate x as a 2x5 array with random values from 0 to 10(not inclusive).Get the maximum and minimum values and their indices of x along the second axis."
      ],
      "metadata": {
        "id": "tcnv_4CYJaf8"
      }
    },
    {
      "cell_type": "code",
      "source": [
        "\n",
        "x = np.random.randint(0, 10, size=(2, 5))\n",
        "\n",
        "print(\"Array x:\")\n",
        "print(x)\n",
        "max_values = x.max(axis=1)\n",
        "max_indices = x.argmax(axis=1)\n",
        "\n",
        "min_values = x.min(axis=1)\n",
        "min_indices = x.argmin(axis=1)\n",
        "\n",
        "print(\"\\nMaximum values along axis=1:\", max_values)\n",
        "print(\"Indices of maximum values:\", max_indices)\n",
        "\n",
        "print(\"\\nMinimum values along axis=1:\", min_values)\n",
        "print(\"Indices of minimum values:\", min_indices)\n"
      ],
      "metadata": {
        "colab": {
          "base_uri": "https://localhost:8080/"
        },
        "id": "UefjbiLqJJNv",
        "outputId": "e00cda37-96a9-41a8-df81-d6b7d3bd6139"
      },
      "execution_count": 336,
      "outputs": [
        {
          "output_type": "stream",
          "name": "stdout",
          "text": [
            "Array x:\n",
            "[[1 4 6 4 4]\n",
            " [2 9 5 2 4]]\n",
            "\n",
            "Maximum values along axis=1: [6 9]\n",
            "Indices of maximum values: [2 1]\n",
            "\n",
            "Minimum values along axis=1: [1 2]\n",
            "Indices of minimum values: [0 0]\n"
          ]
        }
      ]
    },
    {
      "cell_type": "markdown",
      "source": [
        "url = 'https://archive.ics.uci.edu/ml/machine-learning-databases/iris/iris.data'\n",
        "iris = np.genfromtxt(url, delimiter=',', dtype='object')\n",
        "names = ('sepallength', 'sepalwidth', 'petallength', 'petalwidth', 'species')"
      ],
      "metadata": {
        "id": "wNV22uMpJnHJ"
      }
    },
    {
      "cell_type": "code",
      "source": [
        "iris = np.genfromtxt( 'https://archive.ics.uci.edu/ml/machine-learning-databases/iris/iris.data' , delimiter=',', dtype='object')\n",
        "names = ('sepallength', 'sepalwidth', 'petallength', 'petalwidth', 'species')\n",
        "df = pd.DataFrame(iris, columns=names)"
      ],
      "metadata": {
        "id": "9ix7SXkqJs9J"
      },
      "execution_count": 337,
      "outputs": []
    },
    {
      "cell_type": "markdown",
      "source": [
        "\n",
        "Q4 Write a Pandas function to find the count of unique species."
      ],
      "metadata": {
        "id": "_IgbjFrbLCVo"
      }
    },
    {
      "cell_type": "code",
      "source": [
        "print(df['species'].nunique())"
      ],
      "metadata": {
        "colab": {
          "base_uri": "https://localhost:8080/"
        },
        "id": "Lg2OKXDNLFdy",
        "outputId": "53154ed9-c175-4158-8c6a-acfc07472123"
      },
      "execution_count": 338,
      "outputs": [
        {
          "output_type": "stream",
          "name": "stdout",
          "text": [
            "3\n"
          ]
        }
      ]
    },
    {
      "cell_type": "markdown",
      "source": [
        "Q5 Write a Pandas function to bin the petal length (3rd) column of iris_2d to form a text array, such that if petal length is:\n",
        "Less than 3 –> ‘small’\n",
        "3-5 –> ‘medium’\n",
        "greater than equal to 5 –> ‘large’"
      ],
      "metadata": {
        "id": "US9kiZZjLZ0Z"
      }
    },
    {
      "cell_type": "code",
      "source": [
        "# Convert numeric columns from bytes to float\n",
        "for col in names[:-1]:  # exclude 'species'\n",
        "    df[col] = df[col].astype(float)\n",
        "\n",
        "# Define conditions\n",
        "conditions = [\n",
        "    df['petallength'] < 3,\n",
        "    (df['petallength'] >= 3) & (df['petallength'] < 5),\n",
        "    df['petallength'] >= 5\n",
        "]\n",
        "\n",
        "# Define the choices for each condition\n",
        "choices = ['small', 'medium', 'large']\n",
        "df['petallength_category'] = np.select(conditions, choices, default='unknown')\n",
        "# Create a new column with the binned category\n",
        "\n"
      ],
      "metadata": {
        "id": "sMt8Pb2aLbay"
      },
      "execution_count": 339,
      "outputs": []
    },
    {
      "cell_type": "markdown",
      "source": [
        "Q6 Write a Pandas function to find the most frequent value of petal length (3rd column) in iris dataset\n"
      ],
      "metadata": {
        "id": "IDlFpxvnORyx"
      }
    },
    {
      "cell_type": "code",
      "source": [
        "df['petallength'] = pd.to_numeric(df['petallength'], errors='coerce')\n",
        "\n",
        "# Find the most frequent (mode) value in petallength\n",
        "most_frequent_value = df['petallength'].mode()[0]\n",
        "\n",
        "print(\"Most frequent petal length value is:\", most_frequent_value)\n"
      ],
      "metadata": {
        "colab": {
          "base_uri": "https://localhost:8080/"
        },
        "id": "_saOZatlOSiA",
        "outputId": "391f843f-8f1a-4b34-ef18-176b7f08f1d8"
      },
      "execution_count": 340,
      "outputs": [
        {
          "output_type": "stream",
          "name": "stdout",
          "text": [
            "Most frequent petal length value is: 1.5\n"
          ]
        }
      ]
    }
  ]
}