{
 "cells": [
  {
   "cell_type": "markdown",
   "id": "915621fc",
   "metadata": {},
   "source": [
    "# Loading Dependencies"
   ]
  },
  {
   "cell_type": "code",
   "execution_count": 2,
   "id": "dd99f104",
   "metadata": {},
   "outputs": [],
   "source": [
    "import numpy as np\n",
    "import pandas as pd\n",
    "from sklearn.ensemble import RandomForestClassifier\n",
    "from sklearn.model_selection import train_test_split"
   ]
  },
  {
   "cell_type": "code",
   "execution_count": 23,
   "id": "66581a63",
   "metadata": {},
   "outputs": [],
   "source": [
    "import matplotlib.pyplot as plt\n",
    "import seaborn as sns"
   ]
  },
  {
   "cell_type": "code",
   "execution_count": 42,
   "id": "36192990",
   "metadata": {},
   "outputs": [],
   "source": [
    "from sklearn.preprocessing import LabelEncoder,StandardScaler"
   ]
  },
  {
   "cell_type": "code",
   "execution_count": 56,
   "id": "17438095",
   "metadata": {},
   "outputs": [],
   "source": [
    "from sklearn.metrics import confusion_matrix,precision_score,recall_score,f1_score,accuracy_score"
   ]
  },
  {
   "cell_type": "markdown",
   "id": "ad112343",
   "metadata": {},
   "source": [
    "# Data Description"
   ]
  },
  {
   "cell_type": "code",
   "execution_count": 4,
   "id": "19442d32",
   "metadata": {},
   "outputs": [
    {
     "data": {
      "application/vnd.microsoft.datawrangler.viewer.v0+json": {
       "columns": [
        {
         "name": "index",
         "rawType": "int64",
         "type": "integer"
        },
        {
         "name": "card",
         "rawType": "object",
         "type": "string"
        },
        {
         "name": "reports",
         "rawType": "int64",
         "type": "integer"
        },
        {
         "name": "age",
         "rawType": "float64",
         "type": "float"
        },
        {
         "name": "income",
         "rawType": "float64",
         "type": "float"
        },
        {
         "name": "share",
         "rawType": "float64",
         "type": "float"
        },
        {
         "name": "expenditure",
         "rawType": "float64",
         "type": "float"
        },
        {
         "name": "owner",
         "rawType": "object",
         "type": "string"
        },
        {
         "name": "selfemp",
         "rawType": "object",
         "type": "string"
        },
        {
         "name": "dependents",
         "rawType": "int64",
         "type": "integer"
        },
        {
         "name": "months",
         "rawType": "int64",
         "type": "integer"
        },
        {
         "name": "majorcards",
         "rawType": "int64",
         "type": "integer"
        },
        {
         "name": "active",
         "rawType": "int64",
         "type": "integer"
        }
       ],
       "ref": "8f6349c8-1098-438b-87d1-f19dee0adaec",
       "rows": [
        [
         "0",
         "yes",
         "0",
         "37.66667",
         "4.52",
         "0.03326991",
         "124.9833",
         "yes",
         "no",
         "3",
         "54",
         "1",
         "12"
        ],
        [
         "1",
         "yes",
         "0",
         "33.25",
         "2.42",
         "0.005216942",
         "9.854167",
         "no",
         "no",
         "3",
         "34",
         "1",
         "13"
        ],
        [
         "2",
         "yes",
         "0",
         "33.66667",
         "4.5",
         "0.0041555559999999",
         "15.0",
         "yes",
         "no",
         "4",
         "58",
         "1",
         "5"
        ],
        [
         "3",
         "yes",
         "0",
         "30.5",
         "2.54",
         "0.06521378",
         "137.8692",
         "no",
         "no",
         "0",
         "25",
         "1",
         "7"
        ],
        [
         "4",
         "yes",
         "0",
         "32.16667",
         "9.7867",
         "0.06705059",
         "546.5033",
         "yes",
         "no",
         "2",
         "64",
         "1",
         "5"
        ]
       ],
       "shape": {
        "columns": 12,
        "rows": 5
       }
      },
      "text/html": [
       "<div>\n",
       "<style scoped>\n",
       "    .dataframe tbody tr th:only-of-type {\n",
       "        vertical-align: middle;\n",
       "    }\n",
       "\n",
       "    .dataframe tbody tr th {\n",
       "        vertical-align: top;\n",
       "    }\n",
       "\n",
       "    .dataframe thead th {\n",
       "        text-align: right;\n",
       "    }\n",
       "</style>\n",
       "<table border=\"1\" class=\"dataframe\">\n",
       "  <thead>\n",
       "    <tr style=\"text-align: right;\">\n",
       "      <th></th>\n",
       "      <th>card</th>\n",
       "      <th>reports</th>\n",
       "      <th>age</th>\n",
       "      <th>income</th>\n",
       "      <th>share</th>\n",
       "      <th>expenditure</th>\n",
       "      <th>owner</th>\n",
       "      <th>selfemp</th>\n",
       "      <th>dependents</th>\n",
       "      <th>months</th>\n",
       "      <th>majorcards</th>\n",
       "      <th>active</th>\n",
       "    </tr>\n",
       "  </thead>\n",
       "  <tbody>\n",
       "    <tr>\n",
       "      <th>0</th>\n",
       "      <td>yes</td>\n",
       "      <td>0</td>\n",
       "      <td>37.66667</td>\n",
       "      <td>4.5200</td>\n",
       "      <td>0.033270</td>\n",
       "      <td>124.983300</td>\n",
       "      <td>yes</td>\n",
       "      <td>no</td>\n",
       "      <td>3</td>\n",
       "      <td>54</td>\n",
       "      <td>1</td>\n",
       "      <td>12</td>\n",
       "    </tr>\n",
       "    <tr>\n",
       "      <th>1</th>\n",
       "      <td>yes</td>\n",
       "      <td>0</td>\n",
       "      <td>33.25000</td>\n",
       "      <td>2.4200</td>\n",
       "      <td>0.005217</td>\n",
       "      <td>9.854167</td>\n",
       "      <td>no</td>\n",
       "      <td>no</td>\n",
       "      <td>3</td>\n",
       "      <td>34</td>\n",
       "      <td>1</td>\n",
       "      <td>13</td>\n",
       "    </tr>\n",
       "    <tr>\n",
       "      <th>2</th>\n",
       "      <td>yes</td>\n",
       "      <td>0</td>\n",
       "      <td>33.66667</td>\n",
       "      <td>4.5000</td>\n",
       "      <td>0.004156</td>\n",
       "      <td>15.000000</td>\n",
       "      <td>yes</td>\n",
       "      <td>no</td>\n",
       "      <td>4</td>\n",
       "      <td>58</td>\n",
       "      <td>1</td>\n",
       "      <td>5</td>\n",
       "    </tr>\n",
       "    <tr>\n",
       "      <th>3</th>\n",
       "      <td>yes</td>\n",
       "      <td>0</td>\n",
       "      <td>30.50000</td>\n",
       "      <td>2.5400</td>\n",
       "      <td>0.065214</td>\n",
       "      <td>137.869200</td>\n",
       "      <td>no</td>\n",
       "      <td>no</td>\n",
       "      <td>0</td>\n",
       "      <td>25</td>\n",
       "      <td>1</td>\n",
       "      <td>7</td>\n",
       "    </tr>\n",
       "    <tr>\n",
       "      <th>4</th>\n",
       "      <td>yes</td>\n",
       "      <td>0</td>\n",
       "      <td>32.16667</td>\n",
       "      <td>9.7867</td>\n",
       "      <td>0.067051</td>\n",
       "      <td>546.503300</td>\n",
       "      <td>yes</td>\n",
       "      <td>no</td>\n",
       "      <td>2</td>\n",
       "      <td>64</td>\n",
       "      <td>1</td>\n",
       "      <td>5</td>\n",
       "    </tr>\n",
       "  </tbody>\n",
       "</table>\n",
       "</div>"
      ],
      "text/plain": [
       "  card  reports       age  income     share  expenditure owner selfemp  \\\n",
       "0  yes        0  37.66667  4.5200  0.033270   124.983300   yes      no   \n",
       "1  yes        0  33.25000  2.4200  0.005217     9.854167    no      no   \n",
       "2  yes        0  33.66667  4.5000  0.004156    15.000000   yes      no   \n",
       "3  yes        0  30.50000  2.5400  0.065214   137.869200    no      no   \n",
       "4  yes        0  32.16667  9.7867  0.067051   546.503300   yes      no   \n",
       "\n",
       "   dependents  months  majorcards  active  \n",
       "0           3      54           1      12  \n",
       "1           3      34           1      13  \n",
       "2           4      58           1       5  \n",
       "3           0      25           1       7  \n",
       "4           2      64           1       5  "
      ]
     },
     "execution_count": 4,
     "metadata": {},
     "output_type": "execute_result"
    }
   ],
   "source": [
    "df=pd.read_csv(r'C:\\Users\\sudip\\ICG02\\venv\\dataset\\AER_credit_card_data.csv')\n",
    "df.head()"
   ]
  },
  {
   "cell_type": "code",
   "execution_count": 8,
   "id": "7026e3a9",
   "metadata": {},
   "outputs": [
    {
     "data": {
      "text/plain": [
       "Index(['card', 'reports', 'age', 'income', 'share', 'expenditure', 'owner',\n",
       "       'selfemp', 'dependents', 'months', 'majorcards', 'active'],\n",
       "      dtype='object')"
      ]
     },
     "execution_count": 8,
     "metadata": {},
     "output_type": "execute_result"
    }
   ],
   "source": [
    "df.columns"
   ]
  },
  {
   "cell_type": "code",
   "execution_count": 9,
   "id": "b1196032",
   "metadata": {},
   "outputs": [
    {
     "data": {
      "text/plain": [
       "(1319, 12)"
      ]
     },
     "execution_count": 9,
     "metadata": {},
     "output_type": "execute_result"
    }
   ],
   "source": [
    "df.shape"
   ]
  },
  {
   "cell_type": "code",
   "execution_count": 7,
   "id": "e56c61d5",
   "metadata": {},
   "outputs": [
    {
     "data": {
      "application/vnd.microsoft.datawrangler.viewer.v0+json": {
       "columns": [
        {
         "name": "index",
         "rawType": "object",
         "type": "string"
        },
        {
         "name": "count",
         "rawType": "float64",
         "type": "float"
        },
        {
         "name": "mean",
         "rawType": "float64",
         "type": "float"
        },
        {
         "name": "std",
         "rawType": "float64",
         "type": "float"
        },
        {
         "name": "min",
         "rawType": "float64",
         "type": "float"
        },
        {
         "name": "25%",
         "rawType": "float64",
         "type": "float"
        },
        {
         "name": "50%",
         "rawType": "float64",
         "type": "float"
        },
        {
         "name": "75%",
         "rawType": "float64",
         "type": "float"
        },
        {
         "name": "max",
         "rawType": "float64",
         "type": "float"
        }
       ],
       "ref": "51be7710-7049-4afb-a43d-d3654b40cfcc",
       "rows": [
        [
         "card",
         "1319.0",
         "0.775587566338135",
         "0.41735302869212365",
         "0.0",
         "1.0",
         "1.0",
         "1.0",
         "1.0"
        ],
        [
         "reports",
         "1319.0",
         "0.4564063684609553",
         "1.3452674780113136",
         "0.0",
         "0.0",
         "0.0",
         "0.0",
         "14.0"
        ],
        [
         "age",
         "1319.0",
         "33.21310325496589",
         "10.142783154539721",
         "0.1666667",
         "25.41667",
         "31.25",
         "39.41667",
         "83.5"
        ],
        [
         "income",
         "1319.0",
         "3.3653760424564068",
         "1.6939017383269124",
         "0.21",
         "2.24375",
         "2.9",
         "4.0",
         "13.5"
        ],
        [
         "share",
         "1319.0",
         "0.06873217313987869",
         "0.0946555652558556",
         "0.0001090909",
         "0.0023159225",
         "0.03882722",
         "0.09361682499999999",
         "0.9063205"
        ],
        [
         "expenditure",
         "1319.0",
         "185.05707077839273",
         "272.21891749553544",
         "0.0",
         "4.5833330000000005",
         "101.2983",
         "249.0358",
         "3099.505"
        ],
        [
         "dependents",
         "1319.0",
         "0.9939347990902199",
         "1.2477450004043018",
         "0.0",
         "0.0",
         "1.0",
         "2.0",
         "6.0"
        ],
        [
         "months",
         "1319.0",
         "55.26762699014405",
         "66.2717455231354",
         "0.0",
         "12.0",
         "30.0",
         "72.0",
         "540.0"
        ],
        [
         "majorcards",
         "1319.0",
         "0.8172858225928734",
         "0.3865785909932502",
         "0.0",
         "1.0",
         "1.0",
         "1.0",
         "1.0"
        ],
        [
         "active",
         "1319.0",
         "6.99696739954511",
         "6.305812278353337",
         "0.0",
         "2.0",
         "6.0",
         "11.0",
         "46.0"
        ]
       ],
       "shape": {
        "columns": 8,
        "rows": 10
       }
      },
      "text/html": [
       "<div>\n",
       "<style scoped>\n",
       "    .dataframe tbody tr th:only-of-type {\n",
       "        vertical-align: middle;\n",
       "    }\n",
       "\n",
       "    .dataframe tbody tr th {\n",
       "        vertical-align: top;\n",
       "    }\n",
       "\n",
       "    .dataframe thead th {\n",
       "        text-align: right;\n",
       "    }\n",
       "</style>\n",
       "<table border=\"1\" class=\"dataframe\">\n",
       "  <thead>\n",
       "    <tr style=\"text-align: right;\">\n",
       "      <th></th>\n",
       "      <th>count</th>\n",
       "      <th>mean</th>\n",
       "      <th>std</th>\n",
       "      <th>min</th>\n",
       "      <th>25%</th>\n",
       "      <th>50%</th>\n",
       "      <th>75%</th>\n",
       "      <th>max</th>\n",
       "    </tr>\n",
       "  </thead>\n",
       "  <tbody>\n",
       "    <tr>\n",
       "      <th>card</th>\n",
       "      <td>1319.0</td>\n",
       "      <td>0.775588</td>\n",
       "      <td>0.417353</td>\n",
       "      <td>0.000000</td>\n",
       "      <td>1.000000</td>\n",
       "      <td>1.000000</td>\n",
       "      <td>1.000000</td>\n",
       "      <td>1.00000</td>\n",
       "    </tr>\n",
       "    <tr>\n",
       "      <th>reports</th>\n",
       "      <td>1319.0</td>\n",
       "      <td>0.456406</td>\n",
       "      <td>1.345267</td>\n",
       "      <td>0.000000</td>\n",
       "      <td>0.000000</td>\n",
       "      <td>0.000000</td>\n",
       "      <td>0.000000</td>\n",
       "      <td>14.00000</td>\n",
       "    </tr>\n",
       "    <tr>\n",
       "      <th>age</th>\n",
       "      <td>1319.0</td>\n",
       "      <td>33.213103</td>\n",
       "      <td>10.142783</td>\n",
       "      <td>0.166667</td>\n",
       "      <td>25.416670</td>\n",
       "      <td>31.250000</td>\n",
       "      <td>39.416670</td>\n",
       "      <td>83.50000</td>\n",
       "    </tr>\n",
       "    <tr>\n",
       "      <th>income</th>\n",
       "      <td>1319.0</td>\n",
       "      <td>3.365376</td>\n",
       "      <td>1.693902</td>\n",
       "      <td>0.210000</td>\n",
       "      <td>2.243750</td>\n",
       "      <td>2.900000</td>\n",
       "      <td>4.000000</td>\n",
       "      <td>13.50000</td>\n",
       "    </tr>\n",
       "    <tr>\n",
       "      <th>share</th>\n",
       "      <td>1319.0</td>\n",
       "      <td>0.068732</td>\n",
       "      <td>0.094656</td>\n",
       "      <td>0.000109</td>\n",
       "      <td>0.002316</td>\n",
       "      <td>0.038827</td>\n",
       "      <td>0.093617</td>\n",
       "      <td>0.90632</td>\n",
       "    </tr>\n",
       "    <tr>\n",
       "      <th>expenditure</th>\n",
       "      <td>1319.0</td>\n",
       "      <td>185.057071</td>\n",
       "      <td>272.218917</td>\n",
       "      <td>0.000000</td>\n",
       "      <td>4.583333</td>\n",
       "      <td>101.298300</td>\n",
       "      <td>249.035800</td>\n",
       "      <td>3099.50500</td>\n",
       "    </tr>\n",
       "    <tr>\n",
       "      <th>dependents</th>\n",
       "      <td>1319.0</td>\n",
       "      <td>0.993935</td>\n",
       "      <td>1.247745</td>\n",
       "      <td>0.000000</td>\n",
       "      <td>0.000000</td>\n",
       "      <td>1.000000</td>\n",
       "      <td>2.000000</td>\n",
       "      <td>6.00000</td>\n",
       "    </tr>\n",
       "    <tr>\n",
       "      <th>months</th>\n",
       "      <td>1319.0</td>\n",
       "      <td>55.267627</td>\n",
       "      <td>66.271746</td>\n",
       "      <td>0.000000</td>\n",
       "      <td>12.000000</td>\n",
       "      <td>30.000000</td>\n",
       "      <td>72.000000</td>\n",
       "      <td>540.00000</td>\n",
       "    </tr>\n",
       "    <tr>\n",
       "      <th>majorcards</th>\n",
       "      <td>1319.0</td>\n",
       "      <td>0.817286</td>\n",
       "      <td>0.386579</td>\n",
       "      <td>0.000000</td>\n",
       "      <td>1.000000</td>\n",
       "      <td>1.000000</td>\n",
       "      <td>1.000000</td>\n",
       "      <td>1.00000</td>\n",
       "    </tr>\n",
       "    <tr>\n",
       "      <th>active</th>\n",
       "      <td>1319.0</td>\n",
       "      <td>6.996967</td>\n",
       "      <td>6.305812</td>\n",
       "      <td>0.000000</td>\n",
       "      <td>2.000000</td>\n",
       "      <td>6.000000</td>\n",
       "      <td>11.000000</td>\n",
       "      <td>46.00000</td>\n",
       "    </tr>\n",
       "  </tbody>\n",
       "</table>\n",
       "</div>"
      ],
      "text/plain": [
       "              count        mean         std       min        25%         50%  \\\n",
       "card         1319.0    0.775588    0.417353  0.000000   1.000000    1.000000   \n",
       "reports      1319.0    0.456406    1.345267  0.000000   0.000000    0.000000   \n",
       "age          1319.0   33.213103   10.142783  0.166667  25.416670   31.250000   \n",
       "income       1319.0    3.365376    1.693902  0.210000   2.243750    2.900000   \n",
       "share        1319.0    0.068732    0.094656  0.000109   0.002316    0.038827   \n",
       "expenditure  1319.0  185.057071  272.218917  0.000000   4.583333  101.298300   \n",
       "dependents   1319.0    0.993935    1.247745  0.000000   0.000000    1.000000   \n",
       "months       1319.0   55.267627   66.271746  0.000000  12.000000   30.000000   \n",
       "majorcards   1319.0    0.817286    0.386579  0.000000   1.000000    1.000000   \n",
       "active       1319.0    6.996967    6.305812  0.000000   2.000000    6.000000   \n",
       "\n",
       "                    75%         max  \n",
       "card           1.000000     1.00000  \n",
       "reports        0.000000    14.00000  \n",
       "age           39.416670    83.50000  \n",
       "income         4.000000    13.50000  \n",
       "share          0.093617     0.90632  \n",
       "expenditure  249.035800  3099.50500  \n",
       "dependents     2.000000     6.00000  \n",
       "months        72.000000   540.00000  \n",
       "majorcards     1.000000     1.00000  \n",
       "active        11.000000    46.00000  "
      ]
     },
     "execution_count": 7,
     "metadata": {},
     "output_type": "execute_result"
    }
   ],
   "source": [
    "df.describe().T"
   ]
  },
  {
   "cell_type": "code",
   "execution_count": 5,
   "id": "6624e62c",
   "metadata": {},
   "outputs": [],
   "source": [
    "mapping={'yes' :1,'no':0}\n",
    "df['card']=df['card'].map(mapping)"
   ]
  },
  {
   "cell_type": "code",
   "execution_count": 14,
   "id": "db3523aa",
   "metadata": {},
   "outputs": [],
   "source": [
    "df.rename(columns={'card':'target'},inplace=True)"
   ]
  },
  {
   "cell_type": "code",
   "execution_count": 15,
   "id": "ca089690",
   "metadata": {},
   "outputs": [
    {
     "data": {
      "text/plain": [
       "Index(['target', 'reports', 'age', 'income', 'share', 'expenditure', 'owner',\n",
       "       'selfemp', 'dependents', 'months', 'majorcards', 'active'],\n",
       "      dtype='object')"
      ]
     },
     "execution_count": 15,
     "metadata": {},
     "output_type": "execute_result"
    }
   ],
   "source": [
    "df.columns"
   ]
  },
  {
   "cell_type": "code",
   "execution_count": 13,
   "id": "6fb880fb",
   "metadata": {},
   "outputs": [
    {
     "data": {
      "application/vnd.microsoft.datawrangler.viewer.v0+json": {
       "columns": [
        {
         "name": "card",
         "rawType": "int64",
         "type": "integer"
        },
        {
         "name": "count",
         "rawType": "int64",
         "type": "integer"
        }
       ],
       "ref": "704b86ae-5675-4cbb-8cfc-16baa05ec982",
       "rows": [
        [
         "1",
         "1023"
        ],
        [
         "0",
         "296"
        ]
       ],
       "shape": {
        "columns": 1,
        "rows": 2
       }
      },
      "text/plain": [
       "card\n",
       "1    1023\n",
       "0     296\n",
       "Name: count, dtype: int64"
      ]
     },
     "execution_count": 13,
     "metadata": {},
     "output_type": "execute_result"
    }
   ],
   "source": [
    "df['card'].value_counts()"
   ]
  },
  {
   "cell_type": "code",
   "execution_count": 18,
   "id": "f39d7d3d",
   "metadata": {},
   "outputs": [],
   "source": [
    "df_numeric=df[[col for col in df.columns if col not in['owner','selfemp']]]"
   ]
  },
  {
   "cell_type": "code",
   "execution_count": 19,
   "id": "345fce3e",
   "metadata": {},
   "outputs": [
    {
     "data": {
      "text/plain": [
       "Index(['target', 'reports', 'age', 'income', 'share', 'expenditure',\n",
       "       'dependents', 'months', 'majorcards', 'active'],\n",
       "      dtype='object')"
      ]
     },
     "execution_count": 19,
     "metadata": {},
     "output_type": "execute_result"
    }
   ],
   "source": [
    "df_numeric.columns"
   ]
  },
  {
   "cell_type": "code",
   "execution_count": 28,
   "id": "c7f37b9b",
   "metadata": {},
   "outputs": [
    {
     "data": {
      "image/png": "[encoded data removed]",
      "text/plain": [
       "<Figure size 800x1000 with 2 Axes>"
      ]
     },
     "metadata": {},
     "output_type": "display_data"
    }
   ],
   "source": [
    "correlation_matrix=df_numeric.corr().abs().round(2)\n",
    "plt.figure(figsize=(8,10))\n",
    "sns.heatmap(correlation_matrix,annot=True,cmap='coolwarm')\n",
    "plt.show()"
   ]
  },
  {
   "cell_type": "markdown",
   "id": "3252e2a5",
   "metadata": {},
   "source": [
    "# Data-Preprocessing"
   ]
  },
  {
   "cell_type": "code",
   "execution_count": null,
   "id": "bf8bec22",
   "metadata": {},
   "outputs": [],
   "source": [
    "def outlier_removal(df,column):\n",
    "    q1=df[column].quantile(0.25)\n",
    "    q3=df[column].quantile(0.75)\n",
    "    iqr=q3-q1\n",
    "    lower_bound=q1-1.5*iqr\n",
    "    upper_bound=q3+1.5*iqr\n",
    "    return df.shape[0]-df[(df[column] >= lower_bound) & (df[column] <= upper_bound)].shape[0]"
   ]
  },
  {
   "cell_type": "code",
   "execution_count": null,
   "id": "8f692f33",
   "metadata": {},
   "outputs": [
    {
     "name": "stdout",
     "output_type": "stream",
     "text": [
      "Number of outliers in target:296\n",
      "Number of outliers in reports:259\n",
      "Number of outliers in age:28\n",
      "Number of outliers in income:77\n",
      "Number of outliers in share:74\n",
      "Number of outliers in expenditure:75\n",
      "Number of outliers in dependents:7\n",
      "Number of outliers in months:95\n",
      "Number of outliers in majorcards:241\n",
      "Number of outliers in active:18\n"
     ]
    }
   ],
   "source": [
    "for col in df_numeric.columns:\n",
    "    print(f\"Number of outliers in {col}:{outlier_removal(df_numeric,col)}\")            "
   ]
  },
  {
   "cell_type": "markdown",
   "id": "d1f2d5ac",
   "metadata": {},
   "source": [
    "That means we cannot remove the outliers as they consume a descent fraction of the total dataset"
   ]
  },
  {
   "cell_type": "markdown",
   "id": "71ae540b",
   "metadata": {},
   "source": [
    "# Random Forest Model"
   ]
  },
  {
   "cell_type": "code",
   "execution_count": 37,
   "id": "6793ebbd",
   "metadata": {},
   "outputs": [
    {
     "data": {
      "text/plain": [
       "Index(['target', 'reports', 'age', 'income', 'share', 'expenditure',\n",
       "       'dependents', 'months', 'majorcards', 'active'],\n",
       "      dtype='object')"
      ]
     },
     "execution_count": 37,
     "metadata": {},
     "output_type": "execute_result"
    }
   ],
   "source": [
    "df_numeric.columns"
   ]
  },
  {
   "cell_type": "code",
   "execution_count": 39,
   "id": "4280e5c6",
   "metadata": {},
   "outputs": [],
   "source": [
    "features=[col for col in df_numeric.columns if col not in ['target']]\n",
    "x=df_numeric[features]\n",
    "y=df_numeric['target']"
   ]
  },
  {
   "cell_type": "code",
   "execution_count": 61,
   "id": "60fbd42d",
   "metadata": {},
   "outputs": [],
   "source": [
    "le=LabelEncoder()\n",
    "y_encoded=le.fit_transform(y)"
   ]
  },
  {
   "cell_type": "code",
   "execution_count": 62,
   "id": "d2520826",
   "metadata": {},
   "outputs": [],
   "source": [
    "x_train,x_test,y_train,y_test=train_test_split(x,y_encoded,test_size=0.2,random_state=42)"
   ]
  },
  {
   "cell_type": "code",
   "execution_count": 63,
   "id": "51425fe5",
   "metadata": {},
   "outputs": [],
   "source": [
    "scaler=StandardScaler()\n",
    "x_train_scaled=scaler.fit_transform(x_train)\n",
    "x_test_scaled=scaler.transform(x_test)"
   ]
  },
  {
   "cell_type": "code",
   "execution_count": 64,
   "id": "3d63fb35",
   "metadata": {},
   "outputs": [],
   "source": [
    "model_rf=RandomForestClassifier(n_estimators=100,random_state=42)\n",
    "model_rf.fit(x_train_scaled,y_train)\n",
    "y_prediction=model_rf.predict(x_test_scaled)"
   ]
  },
  {
   "cell_type": "code",
   "execution_count": 65,
   "id": "c52d2156",
   "metadata": {},
   "outputs": [
    {
     "data": {
      "text/plain": [
       "array([[ 62,   0],\n",
       "       [  6, 196]])"
      ]
     },
     "execution_count": 65,
     "metadata": {},
     "output_type": "execute_result"
    }
   ],
   "source": [
    "confusion_matrix(y_test,y_prediction)"
   ]
  },
  {
   "cell_type": "code",
   "execution_count": 66,
   "id": "67f2cf47",
   "metadata": {},
   "outputs": [
    {
     "name": "stdout",
     "output_type": "stream",
     "text": [
      "0.9772727272727273\n"
     ]
    }
   ],
   "source": [
    "accuracy_score=model_rf.score(x_test_scaled,y_test)\n",
    "print(accuracy_score)"
   ]
  },
  {
   "cell_type": "code",
   "execution_count": 67,
   "id": "e0ce4964",
   "metadata": {},
   "outputs": [
    {
     "data": {
      "text/plain": [
       "<Axes: >"
      ]
     },
     "execution_count": 67,
     "metadata": {},
     "output_type": "execute_result"
    },
    {
     "data": {
      "image/png": "[encoded data removed]",
      "text/plain": [
       "<Figure size 640x480 with 1 Axes>"
      ]
     },
     "metadata": {},
     "output_type": "display_data"
    }
   ],
   "source": [
    "pd.Series(model_rf.feature_importances_, index = x_train.columns).sort_values().plot.barh()"
   ]
  }
 ],
 "metadata": {
  "kernelspec": {
   "display_name": "Python 3",
   "language": "python",
   "name": "python3"
  },
  "language_info": {
   "codemirror_mode": {
    "name": "ipython",
    "version": 3
   },
   "file_extension": ".py",
   "mimetype": "text/x-python",
   "name": "python",
   "nbconvert_exporter": "python",
   "pygments_lexer": "ipython3",
   "version": "3.11.9"
  }
 },
 "nbformat": 4,
 "nbformat_minor": 5
}
